{
 "cells": [
  {
   "cell_type": "code",
   "execution_count": null,
   "metadata": {},
   "outputs": [],
   "source": [
    "#####\n",
    "#A queue is a list which is limited to only allow data to be inserted from \n",
    "#one end, and retrieved from the other\n",
    "#They follow the rule FIFO i.e. First In First Out\n",
    "#Enqueue : When data is pushed in the queue\n",
    "#Dequeue : When data is poped out from the queue"
   ]
  },
  {
   "cell_type": "code",
   "execution_count": 2,
   "metadata": {},
   "outputs": [],
   "source": [
    "class Queue:\n",
    "    \n",
    "    #declare a empty queue or list\n",
    "    def __init__(self):\n",
    "        self.items = []\n",
    "    \n",
    "    #to check if a queue is empty or not\n",
    "    def is_empty(self):\n",
    "        return self.items == []\n",
    "        \n",
    "    \n",
    "    #print the values of queue\n",
    "    def print_queue(self):\n",
    "        \n",
    "        if self.items != []:\n",
    "            for i in range(len(self.items)):\n",
    "                print(self.items[i])\n",
    "        else:\n",
    "            return\n",
    "     \n",
    "    \n",
    "    #add data items to the queue\n",
    "    def push(self, data):\n",
    "        self.items.append(data)\n",
    "        \n",
    "    \n",
    "    #delete the first element of the queue i.e. FIFO\n",
    "    def delete(self):\n",
    "        pval = self.items.pop(0)\n",
    "        print('The popped values is :',pval)\n",
    "        \n",
    "    "
   ]
  },
  {
   "cell_type": "code",
   "execution_count": 7,
   "metadata": {},
   "outputs": [
    {
     "name": "stdout",
     "output_type": "stream",
     "text": [
      "3\n",
      "0\n",
      "7\n",
      "1\n",
      "The popped values is : 3\n",
      "0\n",
      "7\n",
      "1\n",
      "False\n"
     ]
    }
   ],
   "source": [
    "qob = Queue()\n",
    "qob.push(3)\n",
    "qob.push(0)\n",
    "qob.push(7)\n",
    "qob.push(1)\n",
    "\n",
    "qob.print_queue()\n",
    "\n",
    "qob.delete()\n",
    "\n",
    "qob.print_queue()\n",
    "print(qob.is_empty())"
   ]
  },
  {
   "cell_type": "code",
   "execution_count": 9,
   "metadata": {},
   "outputs": [
    {
     "name": "stdout",
     "output_type": "stream",
     "text": [
      "4\n",
      "0\n",
      "The popped values is : 4\n",
      "The popped values is : 0\n",
      "True\n"
     ]
    }
   ],
   "source": [
    "qob1 = Queue()\n",
    "qob1.push(4)\n",
    "qob1.push(0)\n",
    "qob1.print_queue()\n",
    "qob1.delete()\n",
    "qob1.delete()\n",
    "print(qob1.is_empty())"
   ]
  },
  {
   "cell_type": "code",
   "execution_count": null,
   "metadata": {},
   "outputs": [],
   "source": []
  }
 ],
 "metadata": {
  "kernelspec": {
   "display_name": "Python 3",
   "language": "python",
   "name": "python3"
  },
  "language_info": {
   "codemirror_mode": {
    "name": "ipython",
    "version": 3
   },
   "file_extension": ".py",
   "mimetype": "text/x-python",
   "name": "python",
   "nbconvert_exporter": "python",
   "pygments_lexer": "ipython3",
   "version": "3.7.4"
  }
 },
 "nbformat": 4,
 "nbformat_minor": 2
}
