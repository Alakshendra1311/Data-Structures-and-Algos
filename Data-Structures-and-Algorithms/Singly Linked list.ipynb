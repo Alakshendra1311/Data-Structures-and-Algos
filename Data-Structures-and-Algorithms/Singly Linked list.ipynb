{
 "cells": [
  {
   "cell_type": "code",
   "execution_count": 32,
   "metadata": {},
   "outputs": [],
   "source": [
    "#create the node class which will add every node\n",
    "class Node:\n",
    "    def __init__(self, data):\n",
    "        self.data = data\n",
    "        self.next = None\n",
    "        \n",
    "\n",
    "\n",
    "class LinkedList:\n",
    "\n",
    "#constructor which can initialize the head to none at first time of execution    \n",
    "    def __init__(self):\n",
    "        self.head = None\n",
    "\n",
    "        \n",
    "#traverse through each item of list        \n",
    "    def print_list(self):    \n",
    "        cur_node = self.head\n",
    "        while cur_node:\n",
    "            print(cur_node.data)\n",
    "            cur_node = cur_node.next\n",
    "\n",
    "\n",
    "#Function to add initial node or add new nodes to last of the list\n",
    "    def append(self, data):\n",
    "        new_node = Node(data)\n",
    "        if self.head is None:\n",
    "            self.head = new_node\n",
    "            return\n",
    "        \n",
    "        last_node = self.head\n",
    "        while last_node.next: #another way to write last_node.next != None\n",
    "            last_node = last_node.next\n",
    "        last_node.next = new_node\n",
    "     \n",
    "    \n",
    "#function to add a node at the begining of the list\n",
    "    def prepend(self, data):\n",
    "        new_node = Node(data)\n",
    "        new_node.next = self.head\n",
    "        # to place the head to first node which is new node\n",
    "        self.head = new_node \n",
    "     \n",
    "    \n",
    "#Function to add a new node after a specific existing node\n",
    "    def insert_after_node(self, prev_node, data):\n",
    "        \n",
    "        if not prev_node:\n",
    "            print('Previous node is not in the list')\n",
    "            \n",
    "        new_node = Node(data)\n",
    "        \n",
    "        new_node.next = prev_node.next\n",
    "        prev_node.next = new_node\n",
    "        \n",
    "        \n",
    "#to delete a particular node by its data\n",
    "    def delete_node(self, key):\n",
    "        \n",
    "        cur_node = self.head\n",
    "        \n",
    "        if cur_node and cur_node.data == key: #cur_node!=None\n",
    "            self.head = cur_node.next\n",
    "            cur_node = None\n",
    "            return\n",
    "        \n",
    "        prev = None\n",
    "        while cur_node and cur_node.data != key:\n",
    "            prev = cur_node\n",
    "            cur_node = cur_node.next\n",
    "            \n",
    "        if cur_node is None:\n",
    "            return\n",
    "        prev.next = cur_node.next\n",
    "        cur_node = None\n",
    "            \n",
    "\n",
    "#To delete a particular node by its position\n",
    "    def delete_node_at_pos(self, pos):\n",
    "        cur_node = self.head\n",
    "        \n",
    "        if pos == 0:\n",
    "            self.head = cur_node.next\n",
    "            cur_node = None\n",
    "            return\n",
    "        \n",
    "        prev = None\n",
    "        count = 0\n",
    "        while cur_node and count!=pos:\n",
    "            prev = cur_node\n",
    "            cur_node = cur_node.next\n",
    "            count +=1\n",
    "            \n",
    "        if cur_node is None:\n",
    "            return\n",
    "        prev.next = cur_node.next\n",
    "        cur_node = None\n",
    "        \n",
    "\n",
    "#To calculate the list of length\n",
    "    def list_len(self):\n",
    "        \n",
    "        count = 0\n",
    "        cur_node = self.head\n",
    "        \n",
    "        while cur_node:\n",
    "            count += 1\n",
    "            cur_node = cur_node.next\n",
    "        print('Length of list is ',count)\n",
    "        \n",
    "        \n",
    "#To count the no. of times a particular element is in the linked list\n",
    "    def count_occurences(self, data):\n",
    "        count = 0\n",
    "        cur = self.head\n",
    "        \n",
    "        while cur:\n",
    "            if cur.data==data:\n",
    "                count+=1\n",
    "        print('The element ',data,' occured ',count,' times in Linked List')\n",
    "        \n",
    "        \n",
    "#move tail element to become a head element\n",
    "# A -> B -> C -> D -> Null(Original)\n",
    "# D -> A -> B -> C -> Null(After calling function)\n",
    "    def move_tail_to_head(self):\n",
    "        last = self.head\n",
    "        second_to_last = None\n",
    "        while last.next:\n",
    "            second_to_last = last\n",
    "            last = last.next\n",
    "        last.next = self.head\n",
    "        second_to_last.next = None\n",
    "        self.head = last\n",
    "   \n",
    "\n",
    "    #function to remove duplicate values\n",
    "    def remove_duplicates(self):\n",
    "        \n",
    "        cur = self.head\n",
    "        prev = None\n",
    "        dup_values = {}\n",
    "        while cur:\n",
    "            if cur.data in dup_values:\n",
    "                #remove node\n",
    "                prev.next = cur.next\n",
    "                cur = None\n",
    "            else:\n",
    "                #have not encountered element before\n",
    "                dup_values[cur.data] = 1\n",
    "                prev = cur\n",
    "            cur = prev.next\n",
    "            \n",
    "            \n",
    "            \n",
    "#function to swap two nodes\n",
    "    def swap_nodes(self, key_1, key_2):\n",
    "        \n",
    "        if key_1 == key_2:\n",
    "            return\n",
    "        \n",
    "        prev_1 = None\n",
    "        cur_1 = self.head\n",
    "        while cur_1 and cur_1.data != key_1:\n",
    "            prev_1 = cur_1\n",
    "            cur_1 = cur_1.next\n",
    "            \n",
    "        prev_2 = None\n",
    "        cur_2 = self.head\n",
    "        while cur_2 and cur_2.data != key_2:\n",
    "            prev_2 = cur_2\n",
    "            cur_2 = cur_2.next\n",
    "            \n",
    "        if not cur_1 or not cur_2:\n",
    "            return\n",
    "        \n",
    "        if prev_1:\n",
    "            prev_1.next = cur_2\n",
    "        else:\n",
    "            self.head = cur_2\n",
    "            \n",
    "        if prev_2:\n",
    "            prev_2.next = cur_1\n",
    "        else:\n",
    "            self.head = cur_1\n",
    "            \n",
    "        cur_1.next, cur_2.next = cur_2.next, cur_1.next\n",
    "        \n",
    "            \n",
    "             "
   ]
  },
  {
   "cell_type": "code",
   "execution_count": 33,
   "metadata": {},
   "outputs": [
    {
     "name": "stdout",
     "output_type": "stream",
     "text": [
      "Length of list is  4\n",
      "c\n",
      "a\n",
      "d\n",
      "b\n"
     ]
    }
   ],
   "source": [
    "llist = LinkedList()\n",
    "llist.append('a')\n",
    "llist.append('b')\n",
    "llist.prepend('c')\n",
    "llist.insert_after_node(llist.head.next,'d')\n",
    "llist.list_len()\n",
    "llist.print_list()\n",
    "#llist.count_occurences('a')"
   ]
  },
  {
   "cell_type": "code",
   "execution_count": 34,
   "metadata": {},
   "outputs": [
    {
     "name": "stdout",
     "output_type": "stream",
     "text": [
      "c\n",
      "a\n",
      "b\n"
     ]
    }
   ],
   "source": [
    "llist.delete_node('d')\n",
    "llist.print_list()"
   ]
  },
  {
   "cell_type": "code",
   "execution_count": 35,
   "metadata": {},
   "outputs": [
    {
     "name": "stdout",
     "output_type": "stream",
     "text": [
      "c\n",
      "a\n",
      "Length of list is  2\n"
     ]
    }
   ],
   "source": [
    "llist.delete_node_at_pos(2)\n",
    "llist.print_list()\n",
    "llist.list_len()"
   ]
  },
  {
   "cell_type": "code",
   "execution_count": 36,
   "metadata": {},
   "outputs": [
    {
     "name": "stdout",
     "output_type": "stream",
     "text": [
      "a\n",
      "c\n",
      "a\n",
      "a\n",
      "d\n"
     ]
    }
   ],
   "source": [
    "llist.append('a')\n",
    "llist.append('d')\n",
    "llist.prepend('a')\n",
    "llist.print_list()"
   ]
  },
  {
   "cell_type": "code",
   "execution_count": 37,
   "metadata": {},
   "outputs": [
    {
     "name": "stdout",
     "output_type": "stream",
     "text": [
      "d\n",
      "a\n",
      "c\n",
      "a\n",
      "a\n"
     ]
    }
   ],
   "source": [
    "llist.move_tail_to_head()\n",
    "llist.print_list()"
   ]
  },
  {
   "cell_type": "code",
   "execution_count": 38,
   "metadata": {},
   "outputs": [
    {
     "name": "stdout",
     "output_type": "stream",
     "text": [
      "d\n",
      "a\n",
      "c\n"
     ]
    }
   ],
   "source": [
    "llist.remove_duplicates()\n",
    "llist.print_list()"
   ]
  },
  {
   "cell_type": "code",
   "execution_count": 39,
   "metadata": {},
   "outputs": [
    {
     "name": "stdout",
     "output_type": "stream",
     "text": [
      "d\n",
      "a\n",
      "c\n",
      "e\n",
      "f\n",
      "g\n"
     ]
    }
   ],
   "source": [
    "llist.append('e')\n",
    "llist.append('f')\n",
    "llist.append('g')\n",
    "llist.print_list()"
   ]
  },
  {
   "cell_type": "code",
   "execution_count": 40,
   "metadata": {},
   "outputs": [
    {
     "name": "stdout",
     "output_type": "stream",
     "text": [
      "d\n",
      "a\n",
      "f\n",
      "e\n",
      "c\n",
      "g\n"
     ]
    }
   ],
   "source": [
    "llist.swap_nodes('c','f')\n",
    "llist.print_list()"
   ]
  },
  {
   "cell_type": "code",
   "execution_count": null,
   "metadata": {},
   "outputs": [],
   "source": []
  }
 ],
 "metadata": {
  "kernelspec": {
   "display_name": "Python 3",
   "language": "python",
   "name": "python3"
  },
  "language_info": {
   "codemirror_mode": {
    "name": "ipython",
    "version": 3
   },
   "file_extension": ".py",
   "mimetype": "text/x-python",
   "name": "python",
   "nbconvert_exporter": "python",
   "pygments_lexer": "ipython3",
   "version": "3.7.4"
  }
 },
 "nbformat": 4,
 "nbformat_minor": 2
}
