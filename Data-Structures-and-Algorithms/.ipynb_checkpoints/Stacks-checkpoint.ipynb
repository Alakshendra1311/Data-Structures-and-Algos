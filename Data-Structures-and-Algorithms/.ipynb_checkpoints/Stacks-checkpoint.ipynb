{
 "cells": [
  {
   "cell_type": "code",
   "execution_count": 1,
   "metadata": {},
   "outputs": [],
   "source": [
    "####\n",
    "#STACK DATA STRUCTURE\n",
    "#stack is basically a list\n",
    "####\n",
    "#A\n",
    "#B\n",
    "#C\n",
    "#D\n",
    "#Follows LIFO rule i.e. Last in First Out"
   ]
  },
  {
   "cell_type": "code",
   "execution_count": 1,
   "metadata": {},
   "outputs": [],
   "source": [
    "class stack():\n",
    "    \n",
    "    #to declare the empty list or stack\n",
    "    def __init__(self):\n",
    "        self.items = []\n",
    "        \n",
    "    #add values to stack\n",
    "    def push(self, data):\n",
    "        self.items.append(data)\n",
    "        \n",
    "    \n",
    "    #pop the last value entered in the stack\n",
    "    def pop(self):\n",
    "        return self.items.pop()\n",
    "    \n",
    "    \n",
    "    #to check if the stack is empty\n",
    "    def is_empty(self):\n",
    "        return self.items == []\n",
    "    \n",
    "    #to see the last value entered in the list\n",
    "    def peek(self):\n",
    "        if not self.is_empty():\n",
    "            print('The top most item in Stack : ',self.items[-1])\n",
    "            \n",
    "    #print the items of the stack        \n",
    "    def print_stack(self):\n",
    "        print(self.items)\n",
    "        "
   ]
  },
  {
   "cell_type": "code",
   "execution_count": 4,
   "metadata": {},
   "outputs": [],
   "source": [
    "#function to reverse a string with the help of stack\n",
    "def reverse_string(stack_obj, input_str):\n",
    "    \n",
    "    #loop through the string and push contents(character by character) in th stack\n",
    "    for i in range(len(input_str)):\n",
    "        stack_obj.push(input_str[i])\n",
    "        \n",
    "    rev_str = ''\n",
    "    while not stack_obj.is_empty():\n",
    "        rev_str += stack_obj.pop()\n",
    "        \n",
    "    return rev_str"
   ]
  },
  {
   "cell_type": "code",
   "execution_count": 6,
   "metadata": {},
   "outputs": [
    {
     "name": "stdout",
     "output_type": "stream",
     "text": [
      "[5, 7, 0, 2, 1]\n"
     ]
    }
   ],
   "source": [
    "sob = stack()\n",
    "sob.push(5)\n",
    "sob.push(7)\n",
    "sob.push(0)\n",
    "sob.push(2)\n",
    "sob.push(1)\n",
    "sob.print_stack()"
   ]
  },
  {
   "cell_type": "code",
   "execution_count": 7,
   "metadata": {},
   "outputs": [
    {
     "name": "stdout",
     "output_type": "stream",
     "text": [
      "[5, 7, 0, 2]\n",
      "[5, 7, 0, 2, 8]\n",
      "[5, 7, 0, 2]\n"
     ]
    }
   ],
   "source": [
    "sob.pop()\n",
    "sob.print_stack()\n",
    "sob.push(8)\n",
    "sob.print_stack()\n",
    "sob.pop()\n",
    "sob.print_stack()"
   ]
  },
  {
   "cell_type": "code",
   "execution_count": 8,
   "metadata": {},
   "outputs": [
    {
     "name": "stdout",
     "output_type": "stream",
     "text": [
      "The top most item in Stack :  2\n"
     ]
    }
   ],
   "source": [
    "sob.peek()"
   ]
  },
  {
   "cell_type": "code",
   "execution_count": 9,
   "metadata": {},
   "outputs": [
    {
     "name": "stdout",
     "output_type": "stream",
     "text": [
      "False\n",
      "True\n"
     ]
    }
   ],
   "source": [
    "sob1 = stack()\n",
    "print(sob.is_empty())\n",
    "print(sob1.is_empty())"
   ]
  },
  {
   "cell_type": "code",
   "execution_count": 5,
   "metadata": {},
   "outputs": [
    {
     "name": "stdout",
     "output_type": "stream",
     "text": [
      "ardnehskalA\n"
     ]
    }
   ],
   "source": [
    "sob2 = stack()\n",
    "\n",
    "str1 = 'Alakshendra'\n",
    "print(reverse_string(sob2, str1))"
   ]
  },
  {
   "cell_type": "code",
   "execution_count": null,
   "metadata": {},
   "outputs": [],
   "source": []
  }
 ],
 "metadata": {
  "kernelspec": {
   "display_name": "Python 3",
   "language": "python",
   "name": "python3"
  },
  "language_info": {
   "codemirror_mode": {
    "name": "ipython",
    "version": 3
   },
   "file_extension": ".py",
   "mimetype": "text/x-python",
   "name": "python",
   "nbconvert_exporter": "python",
   "pygments_lexer": "ipython3",
   "version": "3.7.4"
  }
 },
 "nbformat": 4,
 "nbformat_minor": 2
}
