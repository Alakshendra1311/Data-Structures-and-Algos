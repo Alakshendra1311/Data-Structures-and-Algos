{
 "cells": [
  {
   "cell_type": "code",
   "execution_count": 16,
   "metadata": {},
   "outputs": [],
   "source": [
    "#create the node class which will add every node\n",
    "class Node():\n",
    "    def __init__(self, data):\n",
    "        self.data = data\n",
    "        self.next = None\n",
    "        \n",
    "        \n",
    "class CircularLinkedList():\n",
    "    \n",
    "    \n",
    "    #constructor which can initialize the head to none at first time of execution\n",
    "    def __init__(self):\n",
    "        self.head = None\n",
    "        \n",
    "    \n",
    "    #function to add a node at the begining of the list\n",
    "    def prepend(self, data):\n",
    "        new_node = Node(data)\n",
    "        cur = self.head\n",
    "        new_node.next = self.head\n",
    "        \n",
    "        if not self.head:\n",
    "            new_node.next = new_node\n",
    "        else:\n",
    "            while cur.next != self.head:\n",
    "                cur = cur.next\n",
    "            cur.next = new_node\n",
    "        self.head = new_node\n",
    "        \n",
    "    \n",
    "    #Function to add initial node or add new nodes to last of the list\n",
    "    def append(self, data):\n",
    "        if not self.head:  #if self.head == None\n",
    "            self.head = Node(data)\n",
    "            self.head.next = self.head\n",
    "            \n",
    "        else:\n",
    "            new_node = Node(data)\n",
    "            cur = self.head\n",
    "            while cur.next != self.head:\n",
    "                cur = cur.next\n",
    "            cur.next = new_node\n",
    "            new_node.next = self.head\n",
    "            \n",
    "    \n",
    "    #traverse through each item of list\n",
    "    def print_list(self):\n",
    "        cur = self.head\n",
    "        \n",
    "        while cur:\n",
    "            print(cur.data)\n",
    "            cur = cur.next\n",
    "            if cur == self.head:\n",
    "                break\n",
    "                \n",
    "                \n",
    "    #remove a node with specified data element            \n",
    "    def remove(self, key):\n",
    "        if self.head.data == key:\n",
    "            cur = self.head\n",
    "            while cur.next != self.head:\n",
    "                cur = cur.next\n",
    "            cur.next = self.head.next\n",
    "            self.head = self.head.next\n",
    "        \n",
    "        else:\n",
    "            cur = self.head\n",
    "            prev = None\n",
    "            while cur.next != self.head:\n",
    "                prev = cur\n",
    "                cur = cur.next\n",
    "                if cur.data == key:\n",
    "                    prev.next = cur.next\n",
    "                    cur = cur.next\n",
    "                    \n",
    "                    \n",
    "    #function to get the length of the linked list\n",
    "    #this function overwrites the normal len() of python\n",
    "    def __len__(self):\n",
    "            cur = self.head\n",
    "            count = 0\n",
    "            while cur:\n",
    "                count += 1\n",
    "                cur = cur.next\n",
    "                if cur == self.head:\n",
    "                    break\n",
    "            return count\n",
    "        \n",
    "    \n",
    "    #splits the list in two parts    \n",
    "    def split_list(self):\n",
    "            size = len(self) #calling the len function to get the length of\n",
    "                             #the linked list\n",
    "            if size == 0:\n",
    "                return None\n",
    "            if size == 1:\n",
    "                return self.head\n",
    "             \n",
    "            mid = size//2 #returns integer value ex => 7//3 = 2\n",
    "            count = 0\n",
    "            \n",
    "            prev = None\n",
    "            cur = self.head\n",
    "            \n",
    "            while cur and count < mid:\n",
    "                count +=1\n",
    "                prev = cur\n",
    "                cur = cur.next\n",
    "            prev.next = self.head\n",
    "            \n",
    "            split_clist = CircularLinkedList()\n",
    "            while cur.next != self.head:\n",
    "                split_clist.append(cur.data)\n",
    "                cur = cur.next\n",
    "            split_clist.append(cur.data)\n",
    "            \n",
    "            print('Part 1 of splitted list:')\n",
    "            self.print_list()\n",
    "            print('\\n')\n",
    "            print('Part 2 of splitted list:')\n",
    "            split_clist.print_list()\n",
    "                \n",
    "                \n",
    "    #to check if a linked is circular            \n",
    "    def is_circular_linked_list(self, input_list):\n",
    "        cur = input_list.head\n",
    "        while cur.next:\n",
    "            cur = cur.next\n",
    "            if cur.next == input_list.head:\n",
    "                return True\n",
    "        return False"
   ]
  },
  {
   "cell_type": "code",
   "execution_count": 17,
   "metadata": {},
   "outputs": [],
   "source": [
    "class LinkedList:\n",
    "\n",
    "#constructor which can initialize the head to none at first time of execution    \n",
    "    def __init__(self):\n",
    "        self.head = None\n",
    "\n",
    "        \n",
    "#traverse through each item of list        \n",
    "    def print_list(self):    \n",
    "        cur_node = self.head\n",
    "        while cur_node:\n",
    "            print(cur_node.data)\n",
    "            cur_node = cur_node.next\n",
    "\n",
    "\n",
    "#Function to add initial node or add new nodes to last of the list\n",
    "    def append(self, data):\n",
    "        new_node = Node(data)\n",
    "        if self.head is None:\n",
    "            self.head = new_node\n",
    "            return\n",
    "        \n",
    "        last_node = self.head\n",
    "        while last_node.next: #another way to write last_node.next != None\n",
    "            last_node = last_node.next\n",
    "        last_node.next = new_node"
   ]
  },
  {
   "cell_type": "code",
   "execution_count": 6,
   "metadata": {},
   "outputs": [
    {
     "name": "stdout",
     "output_type": "stream",
     "text": [
      "3\n",
      "4\n",
      "2\n",
      "6\n",
      "List after prepend function\n",
      "0\n",
      "3\n",
      "4\n",
      "2\n",
      "6\n"
     ]
    }
   ],
   "source": [
    "clist = CircularLinkedList()\n",
    "\n",
    "clist.append(3)\n",
    "clist.append(4)\n",
    "clist.append(2)\n",
    "clist.append(6)\n",
    "clist.print_list()\n",
    "\n",
    "print('List after prepend function')\n",
    "clist.prepend(0)\n",
    "clist.print_list()"
   ]
  },
  {
   "cell_type": "code",
   "execution_count": 7,
   "metadata": {},
   "outputs": [
    {
     "name": "stdout",
     "output_type": "stream",
     "text": [
      "3\n",
      "2\n",
      "4\n",
      "2\n",
      "2\n",
      "6\n",
      "After remove function has run\n",
      "3\n",
      "4\n",
      "2\n",
      "6\n"
     ]
    }
   ],
   "source": [
    "clist1 = CircularLinkedList()\n",
    "\n",
    "clist1.append(3)\n",
    "clist1.append(2)\n",
    "clist1.append(4)\n",
    "clist1.append(2)\n",
    "clist1.append(2)\n",
    "clist1.append(6)\n",
    "clist1.print_list()\n",
    "print('After remove function has run')\n",
    "clist1.remove(2)\n",
    "clist1.print_list()"
   ]
  },
  {
   "cell_type": "code",
   "execution_count": 15,
   "metadata": {},
   "outputs": [
    {
     "name": "stdout",
     "output_type": "stream",
     "text": [
      "the original list\n",
      "3\n",
      "2\n",
      "4\n",
      "9\n",
      "0\n",
      "6\n",
      "7\n",
      "Part 1 of splitted list:\n",
      "3\n",
      "2\n",
      "4\n",
      "\n",
      "\n",
      "Part 2 of splitted list:\n",
      "9\n",
      "0\n",
      "6\n",
      "7\n"
     ]
    }
   ],
   "source": [
    "clist2 = CircularLinkedList()\n",
    "\n",
    "clist2.append(3)\n",
    "clist2.append(2)\n",
    "clist2.append(4)\n",
    "clist2.append(9)\n",
    "clist2.append(0)\n",
    "clist2.append(6)\n",
    "clist2.append(7)\n",
    "print('the original list')\n",
    "clist2.print_list()\n",
    "\n",
    "clist2.split_list()"
   ]
  },
  {
   "cell_type": "code",
   "execution_count": 19,
   "metadata": {},
   "outputs": [
    {
     "name": "stdout",
     "output_type": "stream",
     "text": [
      "3\n",
      "2\n",
      "4\n",
      "9\n",
      "0\n"
     ]
    }
   ],
   "source": [
    "clist3 = CircularLinkedList()\n",
    "\n",
    "clist3.append(3)\n",
    "clist3.append(2)\n",
    "clist3.append(4)\n",
    "clist3.append(9)\n",
    "clist3.append(0)\n",
    "clist3.print_list()"
   ]
  },
  {
   "cell_type": "code",
   "execution_count": 21,
   "metadata": {},
   "outputs": [
    {
     "name": "stdout",
     "output_type": "stream",
     "text": [
      "4\n",
      "0\n",
      "1\n",
      "3\n",
      "7\n"
     ]
    }
   ],
   "source": [
    "llist3 = LinkedList()\n",
    "llist3.append(4)\n",
    "llist3.append(0)\n",
    "llist3.append(1)\n",
    "llist3.append(3)\n",
    "llist3.append(7)\n",
    "llist3.print_list()"
   ]
  },
  {
   "cell_type": "code",
   "execution_count": 23,
   "metadata": {},
   "outputs": [
    {
     "name": "stdout",
     "output_type": "stream",
     "text": [
      "True\n",
      "False\n"
     ]
    }
   ],
   "source": [
    "print(clist3.is_circular_linked_list(clist3))\n",
    "print(clist3.is_circular_linked_list(llist3))"
   ]
  },
  {
   "cell_type": "code",
   "execution_count": null,
   "metadata": {},
   "outputs": [],
   "source": []
  }
 ],
 "metadata": {
  "kernelspec": {
   "display_name": "Python 3",
   "language": "python",
   "name": "python3"
  },
  "language_info": {
   "codemirror_mode": {
    "name": "ipython",
    "version": 3
   },
   "file_extension": ".py",
   "mimetype": "text/x-python",
   "name": "python",
   "nbconvert_exporter": "python",
   "pygments_lexer": "ipython3",
   "version": "3.7.4"
  }
 },
 "nbformat": 4,
 "nbformat_minor": 2
}
